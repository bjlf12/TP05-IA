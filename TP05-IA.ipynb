{
 "cells": [
  {
   "cell_type": "markdown",
   "id": "ignored-habitat",
   "metadata": {},
   "source": [
    "### Instituto Tecnologico de Costa Rica (ITCR)\n",
    "### Sede Interuniversitaria de Alajuela\n",
    "### Escuela de Computacion\n",
    "### Curso: Inteligencia Artificial\n",
    "### Estudiantes: \n",
    "\n",
    " - Brandon Ledezma Fernández - 2018185574\n",
    " - Walter Morales Vásquez - 2018212846\n",
    "\n",
    "### Profesora:\n",
    " \n",
    " - Maria Auxiliadora Mora"
   ]
  },
  {
   "cell_type": "markdown",
   "id": "welsh-render",
   "metadata": {},
   "source": [
    "# Tarea Programada Número 5\n",
    "---\n",
    "#### Introducción:\n",
    "<div style='text-align: justify;'> \n",
    "En este trabajo práctico se aplicarán conceptos básicos de aprendizaje automático\n",
    "utilizando algoritmos no supervisados.\n",
    "</div>\n",
    "<div style='text-align: justify;'>\n",
    "Los estudiantes deberán realizar dos ejercicios. El primero consiste en implementar de cero los algoritmos de K-Means y DBSCAN. El segundo ejercicio consiste en aplicar los algoritmos de clustering a datos del Organismo de Investigación Judicial (OIJ) integrados con indicadores socio-económicos generados por el Instituto Nacional de Estadística y Censos de Costa Rica (INEC) para hacer un estudio muy simplificado sobre la criminalidad en el país.\n",
    "</div>\n",
    "<div style='text-align: justify;'>\n",
    "El objetivo del trabajo es poner en práctica el conocimiento adquirido durante el\n",
    "curso sobre clustering por medio de ejercicios prácticos que permitan al estudiante\n",
    "experimentar con un ejemplo de uso.\n",
    "</div>"
   ]
  },
  {
   "cell_type": "code",
   "execution_count": 222,
   "id": "b302ed97",
   "metadata": {},
   "outputs": [],
   "source": [
    "import math\n",
    "import random\n",
    "\n",
    "import pandas as pd\n",
    "import matplotlib.pyplot as plt"
   ]
  },
  {
   "cell_type": "markdown",
   "id": "changed-bermuda",
   "metadata": {},
   "source": [
    "## Ejercicio 1. Implemente de cero los algoritmos K-Means y DBSCAN. "
   ]
  },
  {
   "cell_type": "markdown",
   "id": "danish-slovakia",
   "metadata": {},
   "source": [
    "1. (10 puntos) Implemente de cero el algoritmo de K-Means para vectores de atributos\n",
    "de cualquier dimensión sin utilizar ninguna implementación de biblioteca. "
   ]
  },
  {
   "cell_type": "code",
   "execution_count": 192,
   "id": "f56252e1",
   "metadata": {},
   "outputs": [],
   "source": [
    "def encontrar_min_max(elementos):\n",
    "    \n",
    "    elem_min = [math.inf for i in range(len(elementos))]\n",
    "    elem_max = [-math.inf for i in range(len(elementos))]\n",
    "    \n",
    "    for elem in elementos:\n",
    "        for cols in range(len(elem)):\n",
    "            if elem[cols] > elem_max[cols]:\n",
    "                elem_max[cols] = elem[cols]\n",
    "                \n",
    "            if elem[cols] < elem_min[cols]:\n",
    "                elem_min[cols] = elem[cols]\n",
    "            \n",
    "    return (elem_min, elem_max)\n",
    "\n",
    "def inicializar_medias(elementos, k, elem_min, elem_max):\n",
    "    \n",
    "    # Initialize means to random numbers between\n",
    "    # the min and max of each column/feature \n",
    "    cols = len(elementos[0]) # number of features\n",
    "    medias = [[0 for j in range(cols)] for i in range(k)]\n",
    "    \n",
    "    for media in medias:\n",
    "        for i in range(len(media)):\n",
    "            \n",
    "            # Set value to a random float\n",
    "            # (adding +-1 to avoid a wide placement of a mean)\n",
    "            media[i] = random.uniform(elem_min[i]+1, elem_max[i]-1);\n",
    "    \n",
    "    return medias\n",
    "    \n",
    "def distancia_euclidiana(x, y):\n",
    "    \n",
    "    resultado = 0 # The sum of the squared differences of the elements\n",
    "    \n",
    "    for i in range(len(x)):\n",
    "        resultado += (x[i]-y[i])**2\n",
    "        \n",
    "    # The square root of the sum\n",
    "    return resultado\n",
    "\n",
    "def clasificar(medias, elem):\n",
    "    \n",
    "    # Classify item to the mean with minimum distance\n",
    "    minimo = math.inf\n",
    "    index = -1\n",
    "\n",
    "    for i in range(len(medias)):\n",
    "        \n",
    "        # Find distance from item to mean\n",
    "        dis = distancia_euclidiana(elem, medias[i])\n",
    "        \n",
    "        if minimo > dis:\n",
    "            minimo = dis\n",
    "            index = i\n",
    "            \n",
    "    return index\n",
    "    \n",
    "def actualizar_media(cantidad, medias, elem):\n",
    "    \n",
    "    for i in range(len(medias)):\n",
    "        m = medias[i]\n",
    "        m = (m*(cantidad-1)+elem[i])/float(cantidad)\n",
    "        medias[i] = round(m, 4)\n",
    "      \n",
    "    return medias\n",
    "\n",
    "def k_medias(k, elementos, epocas=100000):\n",
    "    \n",
    "    # Find the minima and maxima for columns\n",
    "    elem_min, elem_max = encontrar_min_max(elementos)\n",
    "    \n",
    "    # Initialize means at random points\n",
    "    medias = inicializar_medias(elementos, k, elem_min, elem_max)\n",
    "    \n",
    "    # Initialize clusters, the array to hold\n",
    "    # the number of items in a class\n",
    "    cantidad_en_clusters= [0 for i in range(len(medias))]\n",
    "    \n",
    "    # An array to hold the cluster an item is in\n",
    "    pertenece = [0 for i in range(len(elementos))]\n",
    "    \n",
    "    # Calculate means\n",
    "    for e in range(epocas):\n",
    "        # If no change of cluster occurs, halt\n",
    "        sin_cambio = True\n",
    "        for i in range(len(elementos)):\n",
    "            \n",
    "            elem = elementos[i]\n",
    "            \n",
    "            # Classify item into a cluster and update the\n",
    "            # corresponding means.        \n",
    "            index = clasificar(medias, elem)\n",
    "#             print(index)\n",
    "            \n",
    "            cantidad_en_clusters[index] += 1\n",
    "            cantidad = cantidad_en_clusters[index]\n",
    "            medias[index] = actualizar_media(cantidad, medias[index], elem)\n",
    "            \n",
    "            # Item changed cluster\n",
    "            if(elem != pertenece[i]):\n",
    "                noChange = False\n",
    "  \n",
    "            pertenece[i] = index\n",
    "    \n",
    "#         print(e, pertenece)\n",
    "        # Nothing changed, return\n",
    "        if (noChange):\n",
    "            break\n",
    "    \n",
    "    return medias, pertenece"
   ]
  },
  {
   "cell_type": "markdown",
   "id": "obvious-madonna",
   "metadata": {},
   "source": [
    "2. (15 puntos) Implemente de cero el algoritmo DBSCAN."
   ]
  },
  {
   "cell_type": "code",
   "execution_count": 216,
   "id": "e5efab78",
   "metadata": {},
   "outputs": [],
   "source": [
    "def obtener_vecinos(epsilon, actual, elementos, visitados):\n",
    "    \n",
    "    respuesta = []\n",
    "    \n",
    "    for i in range(len(visitados)):\n",
    "        #if actual != elementos[i]:\n",
    "        distancia = distancia_euclidiana(actual, elementos[i])\n",
    "\n",
    "        if distancia <= epsilon:\n",
    "            respuesta.append(i)\n",
    "    \n",
    "    return respuesta\n",
    "\n",
    "def obtener_no_visitados(visitados):\n",
    "    \n",
    "    respuesta = []\n",
    "    \n",
    "    for i in range(len(visitados)):\n",
    "        if not visitados[i]:\n",
    "            respuesta.append(i)\n",
    "        \n",
    "    return respuesta\n",
    "\n",
    "# marcar como visitado si es elegido como punto de cluster o se mete en un cluster o es ruido\n",
    "                \n",
    "def dbscan(epsilon, min_puntos, elementos):\n",
    "    \n",
    "    # Initialize clusters\n",
    "    clusters = [] #[[dato1, dato2, dato3], [dato5, dato6]]\n",
    "    \n",
    "    # An array to hold the cluster an item is in\n",
    "    pertenece = [-1 for i in range(len(elementos))]\n",
    "    \n",
    "    # Lista de visitados\n",
    "    visitados = [0 for i in range(len(elementos))]\n",
    "    \n",
    "    random.seed(4321)\n",
    "    \n",
    "    while visitados.count(0) != 0:\n",
    "        \n",
    "        no_visitados = obtener_no_visitados(visitados)\n",
    "        \n",
    "        punto_cluster = random.choice(no_visitados)\n",
    "        visitados[punto_cluster] = 1\n",
    "        \n",
    "        vecinos = obtener_vecinos(epsilon, elementos[punto_cluster], elementos, visitados)\n",
    "        \n",
    "        if len(vecinos) < min_puntos:\n",
    "            \n",
    "            visitados[punto_cluster] = -1\n",
    "            continue\n",
    "        \n",
    "        clusters.append([elementos[punto_cluster]])\n",
    "        pertenece[punto_cluster] = len(clusters) -1\n",
    "        \n",
    "        for vecino in vecinos:\n",
    "            \n",
    "            visitados[vecino] = 2\n",
    "        \n",
    "        #for elem in vecinos:\n",
    "        while len(vecinos) != 0:\n",
    "            \n",
    "            elem = vecinos.pop()\n",
    "                \n",
    "            pertenece[elem] = len(clusters) -1\n",
    "            clusters[-1].append([elementos[elem]])\n",
    "            \n",
    "            vecinos_elem = obtener_vecinos(epsilon, elementos[elem], elementos, visitados)\n",
    "            \n",
    "            if len(vecinos_elem) < min_puntos:\n",
    "                \n",
    "                visitados[vecino] = 2\n",
    "                continue\n",
    "                \n",
    "            for vecino in vecinos_elem:\n",
    "                \n",
    "                if not visitados[vecino] and not vecino in vecinos and vecino != elem:\n",
    "                    vecinos.append(vecino)\n",
    "                    visitados[vecino] = 2\n",
    "    \n",
    "    return clusters, pertenece"
   ]
  },
  {
   "cell_type": "markdown",
   "id": "norman-hobby",
   "metadata": {},
   "source": [
    "3. (2 puntos) Pruebe ambos algoritmos con datos generados artificialmente."
   ]
  },
  {
   "cell_type": "code",
   "execution_count": 219,
   "id": "b57fe2cd",
   "metadata": {},
   "outputs": [
    {
     "name": "stdout",
     "output_type": "stream",
     "text": [
      "[[11.7305748243669, 9.729952706515357], [8.214754850094215, 4.632404208356644], [13.1384642336923, 16.576307182631457], [8.913526373546826, 3.4171105101956534], [0.13470934538889257, 10.6365177264916]]\n"
     ]
    }
   ],
   "source": [
    "def generar_datos(cant_datos, cant_cols, maximo, minimo):\n",
    "    \n",
    "    resultado = [[random.uniform(minimo, maximo) for j in range(cant_cols)] for i in range(cant_datos)]\n",
    "    \n",
    "    return resultado\n",
    "\n",
    "cant_datos = 100\n",
    "cant_cols = 2\n",
    "maximo = 20\n",
    "minimo = 0\n",
    "\n",
    "datos = generar_datos(cant_datos, cant_cols, maximo, minimo)\n",
    "\n",
    "print(datos[:5])"
   ]
  },
  {
   "cell_type": "code",
   "execution_count": 195,
   "id": "13b440b3",
   "metadata": {},
   "outputs": [
    {
     "name": "stdout",
     "output_type": "stream",
     "text": [
      "[[16.0707, 7.1378], [5.2764, 5.1006], [8.269, 16.2234]]\n"
     ]
    }
   ],
   "source": [
    "k = 3\n",
    "epocas = 1000\n",
    "\n",
    "medias, pertenece_kmedias = k_medias(k, datos, epocas)\n",
    "\n",
    "print(medias)"
   ]
  },
  {
   "cell_type": "code",
   "execution_count": 217,
   "id": "5df45433",
   "metadata": {},
   "outputs": [
    {
     "name": "stdout",
     "output_type": "stream",
     "text": [
      "clusters 6 6\n",
      "pertenece 100\n"
     ]
    }
   ],
   "source": [
    "epsilon = 5\n",
    "min_puntos = 2\n",
    "\n",
    "clusters, pertenece_dbscan = dbscan(epsilon, min_puntos, datos)\n",
    "\n",
    "# indice 11 y creo que 52\n",
    "\n",
    "print(\"clusters\", len(clusters), len(clusters))\n",
    "print(\"pertenece\", len(pertenece))"
   ]
  },
  {
   "cell_type": "markdown",
   "id": "external-perry",
   "metadata": {},
   "source": [
    "4. (3 puntos) Visualice ambos resultados. "
   ]
  },
  {
   "cell_type": "code",
   "execution_count": 200,
   "id": "61a3f2e5",
   "metadata": {},
   "outputs": [
    {
     "name": "stdout",
     "output_type": "stream",
     "text": [
      "[0, 2, 1, 0, 2, 1, 2, 0, 1, 0, 2, 0, 2, 0, 1, 1, 0, 1, 0, 0, 0, 0, 2, 0, 2, 0, 0, 1, 0, 2, 1, 1, 2, 1, 0, 1, 1, 1, 1, 0, 1, 1, 2, 2, 1, 2, 2, 2, 2, 2, 2, 2, 2, 2, 1, 0, 1, 0, 1, 1, 2, 0, 2, 2, 0, 2, 1, 1, 0, 0, 1, 0, 1, 0, 0, 0, 0, 1, 0, 0, 2, 1, 0, 2, 2, 2, 2, 2, 2, 2, 0, 2, 1, 1, 2, 1, 2, 2, 1, 2]\n"
     ]
    },
    {
     "data": {
      "image/png": "[encoded data removed]",
      "text/plain": [
       "<Figure size 432x288 with 1 Axes>"
      ]
     },
     "metadata": {
      "needs_background": "light"
     },
     "output_type": "display_data"
    }
   ],
   "source": [
    "x = [elem[0] for elem in datos]\n",
    "y = [elem[1] for elem in datos]\n",
    "\n",
    "x_means = [elem[0] for elem in medias]\n",
    "y_means = [elem[1] for elem in medias]\n",
    "\n",
    "print(pertenece_kmedias)\n",
    "\n",
    "# Se grafican las clases junto con la línea que los divide.\n",
    "plt.figure()\n",
    "plt.title('')\n",
    "plt.scatter(x, y, marker=\"o\", c=pertenece_kmedias)\n",
    "plt.scatter(x_means, y_means, marker=\"X\", c=\"red\")\n",
    "#plt.plot(SamplesAll.numpy(), Y.numpy(), \"r-\")\n",
    "plt.show()"
   ]
  },
  {
   "cell_type": "code",
   "execution_count": 218,
   "id": "29a876a6",
   "metadata": {},
   "outputs": [
    {
     "name": "stdout",
     "output_type": "stream",
     "text": [
      "Clusters de DBScan [1, 0, 3, 1, 0, 3, 4, 1, 1, 1, 0, 5, 0, 3, 3, 3, 1, 3, -1, 5, 2, 2, 2, 2, 0, 1, 1, 0, 1, -1, 3, 3, 0, 3, 3, 3, 3, 1, 3, 2, 3, 3, 4, 4, 3, 2, 2, 0, 2, 2, 2, 0, 0, 4, 1, -1, -1, 1, 3, 3, 2, 1, 2, 2, 5, 0, 3, 1, 1, 5, 0, 1, 3, 2, 2, 5, 2, 3, 1, 1, 2, 0, 5, 2, 2, 0, 4, 0, 2, 2, 5, 2, 3, 0, 2, 3, 2, 0, 3, 2] 100\n",
      "Cantidad de clusters: 7\n"
     ]
    },
    {
     "data": {
      "image/png": "[encoded data removed]",
      "text/plain": [
       "<Figure size 432x288 with 1 Axes>"
      ]
     },
     "metadata": {
      "needs_background": "light"
     },
     "output_type": "display_data"
    }
   ],
   "source": [
    "print(\"Clusters de DBScan\", pertenece_dbscan, len(x))\n",
    "print(\"Cantidad de clusters:\", len(set(pertenece_dbscan)))\n",
    "\n",
    "no_x = []\n",
    "no_y = []\n",
    "\n",
    "for i in range(len(pertenece_dbscan)):\n",
    "    if pertenece_dbscan[i] == -1:\n",
    "        no_x.append(x[i])\n",
    "        no_y.append(y[i])\n",
    "\n",
    "# Se grafican las clases junto con la línea que los divide.\n",
    "plt.figure()\n",
    "plt.title('')\n",
    "plt.scatter(x, y, marker=\"o\", c=pertenece_dbscan)\n",
    "plt.scatter(no_x, no_y, marker=\"X\", c=\"red\")\n",
    "plt.show()"
   ]
  },
  {
   "cell_type": "markdown",
   "id": "fatal-philadelphia",
   "metadata": {},
   "source": [
    "## Ejercicio 2. Aplicación de los algoritmos de clustering implementados para caracterizar la criminalidad en Costa Rica a partir de datos del OIJ y el INEC.\n",
    "---\n",
    "<div style='text-align: justify;'>\n",
    "Objetivo: El objetivo del presente ejercicio es utilizar datos de criminalidad en Costa Rica\n",
    "combinados con datos socio-económicos asociados a distritos para demostrar cuán\n",
    "efectivos y precisos pueden ser los algoritmos de clustering en la definición de perfiles de\n",
    "criminalidad por distrito a nivel nacional. El presente ejercicio utilizará datos numéricos\n",
    "únicamente para tipificar de forma muy simplificada (utilizando dos características) los\n",
    "distritos por cantidad de delitos y tasa de desempleo abierto.\n",
    "</div>"
   ]
  },
  {
   "cell_type": "markdown",
   "id": "alive-advance",
   "metadata": {},
   "source": [
    "1. (4 puntos) Baje los siguientes conjuntos de datos, publicados por las siguientes\n",
    "instituciones nacionales, intégrelos por medio del nombre del distrito y\n",
    "preprocéselos para el ejercicio (documente muy bien todo el proceso).\n",
    "Para ambos conjuntos de datos baje los datos para todas las provincias, cantones\n",
    "y distritos y asegúrese que los datos están limpios antes de hacer el join por distrito\n",
    "para asegurarse que la mínima cantidad de datos no es tomada en cuenta. Es\n",
    "decir deben verificar que en ambos conjuntos de datos los distritos estén\n",
    "escritos de la misma forma.\n",
    "\n",
    "Los conjuntos de datos:"
   ]
  },
  {
   "cell_type": "markdown",
   "id": "critical-victim",
   "metadata": {},
   "source": [
    " a) El OIJ publica datos sobre criminalidad en Costa Rica que tienen como\n",
    "fuente las denuncias interpuestas directamente ante esta entidad nacional.\n",
    "Los datos recopilados por el OIJ están disponibles por provincia, cantón o\n",
    "distrito (deben ser bajados como hoja electrónica para contar con el dato de\n",
    "distrito porque en otros formatos tienen errores). Los datos están disponibles\n",
    "en [Organismo de Investigación Judicial (2018). Estadísticas poiciales. Recuperado de\n",
    "https://sitiooij.poder-judicial.go.cr/index.php/apertura/transparencia/estadisticas-policiales ]. \n",
    "\n",
    "El conjunto de datos de criminalidad del OIJ posee las siguientes columnas:\n",
    "\n",
    "* Delito:Tipo de Delito\n",
    "* SubDelito: Tipo de SubDelito\n",
    "* Fecha: Fecha del Hecho\n",
    "* Hora: Rango de 3 horas del Hecho\n",
    "* Victima: Descripción de la Víctima\n",
    "* SubVictima: Descripción de la SubVíctima\n",
    "* Edad: Grupo de Edad que pertenece la Víctima\n",
    "* Genero: Género de la Víctima\n",
    "* Nacionalidad: Nacionalidad de la Víctima\n",
    "* Provincia: Provincia del Lugar del Hecho\n",
    "* Canton: Cantón del Lugar del Hecho\n",
    "* Distrito: Distrito del Lugar del Hecho"
   ]
  },
  {
   "cell_type": "code",
   "execution_count": 244,
   "id": "21568820",
   "metadata": {},
   "outputs": [
    {
     "data": {
      "text/html": [
       "<div>\n",
       "<style scoped>\n",
       "    .dataframe tbody tr th:only-of-type {\n",
       "        vertical-align: middle;\n",
       "    }\n",
       "\n",
       "    .dataframe tbody tr th {\n",
       "        vertical-align: top;\n",
       "    }\n",
       "\n",
       "    .dataframe thead th {\n",
       "        text-align: right;\n",
       "    }\n",
       "</style>\n",
       "<table border=\"1\" class=\"dataframe\">\n",
       "  <thead>\n",
       "    <tr style=\"text-align: right;\">\n",
       "      <th></th>\n",
       "      <th>Delito</th>\n",
       "      <th>SubDelito</th>\n",
       "      <th>Fecha</th>\n",
       "      <th>Hora</th>\n",
       "      <th>Victima</th>\n",
       "      <th>SubVictima</th>\n",
       "      <th>Edad</th>\n",
       "      <th>Genero</th>\n",
       "      <th>Nacionalidad</th>\n",
       "      <th>Provincia</th>\n",
       "      <th>Canton</th>\n",
       "      <th>Distrito</th>\n",
       "    </tr>\n",
       "  </thead>\n",
       "  <tbody>\n",
       "    <tr>\n",
       "      <th>0</th>\n",
       "      <td>ASALTO</td>\n",
       "      <td>ARMA BLANCA</td>\n",
       "      <td>2020-06-17</td>\n",
       "      <td>21:00:00 - 23:59:59</td>\n",
       "      <td>PERSONA</td>\n",
       "      <td>OTRO O INDETERMINADO [PERSONA]</td>\n",
       "      <td>Mayor de edad</td>\n",
       "      <td>HOMBRE</td>\n",
       "      <td>COSTA RICA</td>\n",
       "      <td>CARTAGO</td>\n",
       "      <td>CARTAGO</td>\n",
       "      <td>san nicolas</td>\n",
       "    </tr>\n",
       "    <tr>\n",
       "      <th>1</th>\n",
       "      <td>ASALTO</td>\n",
       "      <td>ARMA BLANCA</td>\n",
       "      <td>2020-06-18</td>\n",
       "      <td>09:00:00 - 11:59:59</td>\n",
       "      <td>PERSONA</td>\n",
       "      <td>PEATON [PERSONA]</td>\n",
       "      <td>Mayor de edad</td>\n",
       "      <td>HOMBRE</td>\n",
       "      <td>COSTA RICA</td>\n",
       "      <td>SAN JOSE</td>\n",
       "      <td>SAN JOSE</td>\n",
       "      <td>mata redonda</td>\n",
       "    </tr>\n",
       "    <tr>\n",
       "      <th>2</th>\n",
       "      <td>ASALTO</td>\n",
       "      <td>ARMA BLANCA</td>\n",
       "      <td>2020-06-20</td>\n",
       "      <td>18:00:00 - 20:59:59</td>\n",
       "      <td>PERSONA</td>\n",
       "      <td>PEATON [PERSONA]</td>\n",
       "      <td>Mayor de edad</td>\n",
       "      <td>MUJER</td>\n",
       "      <td>COSTA RICA</td>\n",
       "      <td>LIMON</td>\n",
       "      <td>MATINA</td>\n",
       "      <td>matina</td>\n",
       "    </tr>\n",
       "    <tr>\n",
       "      <th>3</th>\n",
       "      <td>ASALTO</td>\n",
       "      <td>ARMA BLANCA</td>\n",
       "      <td>2020-06-22</td>\n",
       "      <td>09:00:00 - 11:59:59</td>\n",
       "      <td>PERSONA</td>\n",
       "      <td>PEATON [PERSONA]</td>\n",
       "      <td>Mayor de edad</td>\n",
       "      <td>HOMBRE</td>\n",
       "      <td>COSTA RICA</td>\n",
       "      <td>CARTAGO</td>\n",
       "      <td>CARTAGO</td>\n",
       "      <td>san nicolas</td>\n",
       "    </tr>\n",
       "    <tr>\n",
       "      <th>4</th>\n",
       "      <td>ASALTO</td>\n",
       "      <td>ARMA BLANCA</td>\n",
       "      <td>2020-06-26</td>\n",
       "      <td>09:00:00 - 11:59:59</td>\n",
       "      <td>PERSONA</td>\n",
       "      <td>PEATON [PERSONA]</td>\n",
       "      <td>Menor de edad</td>\n",
       "      <td>MUJER</td>\n",
       "      <td>NICARAGUA</td>\n",
       "      <td>SAN JOSE</td>\n",
       "      <td>SAN JOSE</td>\n",
       "      <td>catedral</td>\n",
       "    </tr>\n",
       "  </tbody>\n",
       "</table>\n",
       "</div>"
      ],
      "text/plain": [
       "   Delito    SubDelito       Fecha                 Hora  Victima  \\\n",
       "0  ASALTO  ARMA BLANCA  2020-06-17  21:00:00 - 23:59:59  PERSONA   \n",
       "1  ASALTO  ARMA BLANCA  2020-06-18  09:00:00 - 11:59:59  PERSONA   \n",
       "2  ASALTO  ARMA BLANCA  2020-06-20  18:00:00 - 20:59:59  PERSONA   \n",
       "3  ASALTO  ARMA BLANCA  2020-06-22  09:00:00 - 11:59:59  PERSONA   \n",
       "4  ASALTO  ARMA BLANCA  2020-06-26  09:00:00 - 11:59:59  PERSONA   \n",
       "\n",
       "                       SubVictima           Edad  Genero Nacionalidad  \\\n",
       "0  OTRO O INDETERMINADO [PERSONA]  Mayor de edad  HOMBRE   COSTA RICA   \n",
       "1                PEATON [PERSONA]  Mayor de edad  HOMBRE   COSTA RICA   \n",
       "2                PEATON [PERSONA]  Mayor de edad   MUJER   COSTA RICA   \n",
       "3                PEATON [PERSONA]  Mayor de edad  HOMBRE   COSTA RICA   \n",
       "4                PEATON [PERSONA]  Menor de edad   MUJER    NICARAGUA   \n",
       "\n",
       "  Provincia    Canton      Distrito  \n",
       "0   CARTAGO   CARTAGO   san nicolas  \n",
       "1  SAN JOSE  SAN JOSE  mata redonda  \n",
       "2     LIMON    MATINA        matina  \n",
       "3   CARTAGO   CARTAGO   san nicolas  \n",
       "4  SAN JOSE  SAN JOSE      catedral  "
      ]
     },
     "execution_count": 244,
     "metadata": {},
     "output_type": "execute_result"
    }
   ],
   "source": [
    "criminalidad_dataset = pd.read_csv('./data/Estadisticas.csv', delimiter=',')\n",
    "criminalidad_dataset = criminalidad_dataset[criminalidad_dataset[\"Distrito\"].notnull()]\n",
    "criminalidad_dataset[\"Distrito\"] = criminalidad_dataset[\"Distrito\"].apply(lambda x: x.lower())\n",
    "criminalidad_dataset.head()"
   ]
  },
  {
   "cell_type": "markdown",
   "id": "rough-mounting",
   "metadata": {},
   "source": [
    " b) El INEC es la institución encargada a nivel nacional de la generación y\n",
    "divulgación de datos estadísticos obtenidos por medio de censos, encuestas\n",
    "y otros estudios sobre demografía, economía y otros. Al igual que en el OIJ\n",
    "los datos están disponibles por distrito. Los datos a utilizar, fueron\n",
    "generados por el INEC como resultado del censo realizado en el país en el\n",
    "año 2011. Los datos están disponibles en [ Instituto Nacional de Estadísticas y Censos (2011). Censo 2011: Indicadores\n",
    "económicos, según provincia, cantón y distrito. Recuperado de\n",
    "http://inec.cr/documento/censo-2011-indicadores-economicos-segun-provincia-canton-ydistrito ]. \n",
    "\n",
    "El conjunto de datos posee las siguientes columnas:\n",
    "* Provincia, Cantón y Distrito\n",
    "* Población de 15 años y más\n",
    "* Tasa neta de participación\n",
    "* Tasa de ocupación\n",
    "* Tasa de desempleo abierto\n",
    "* Porcentaje de poblacion economicamente inactiva\n",
    "* Relación de depedencia económica"
   ]
  },
  {
   "cell_type": "code",
   "execution_count": 245,
   "id": "68c46886",
   "metadata": {
    "scrolled": true
   },
   "outputs": [
    {
     "data": {
      "text/html": [
       "<div>\n",
       "<style scoped>\n",
       "    .dataframe tbody tr th:only-of-type {\n",
       "        vertical-align: middle;\n",
       "    }\n",
       "\n",
       "    .dataframe tbody tr th {\n",
       "        vertical-align: top;\n",
       "    }\n",
       "\n",
       "    .dataframe thead th {\n",
       "        text-align: right;\n",
       "    }\n",
       "</style>\n",
       "<table border=\"1\" class=\"dataframe\">\n",
       "  <thead>\n",
       "    <tr style=\"text-align: right;\">\n",
       "      <th></th>\n",
       "      <th>Distrito</th>\n",
       "      <th>Poblacion_15_anos_o_mas</th>\n",
       "      <th>Tasa_neta_participacion</th>\n",
       "      <th>Tasa_ocupacion</th>\n",
       "      <th>Tasa_desempleo_abierto</th>\n",
       "      <th>Porcentaje_economicamente_inactiva</th>\n",
       "      <th>Relacion_dependencia_economica</th>\n",
       "      <th>Porcentaje_ocupado_sector_primario</th>\n",
       "      <th>Porcentaje_ocupado_sector_secundario</th>\n",
       "      <th>Porcentaje_ocupado_sector_terciario</th>\n",
       "    </tr>\n",
       "  </thead>\n",
       "  <tbody>\n",
       "    <tr>\n",
       "      <th>0</th>\n",
       "      <td>carmen</td>\n",
       "      <td>2431</td>\n",
       "      <td>56,3142739613328</td>\n",
       "      <td>54,7922665569724</td>\n",
       "      <td>2,7027027027027</td>\n",
       "      <td>43,6857260386672</td>\n",
       "      <td>0,973703433162893</td>\n",
       "      <td>1,57657657657658</td>\n",
       "      <td>8,70870870870871</td>\n",
       "      <td>89,7147147147147</td>\n",
       "    </tr>\n",
       "    <tr>\n",
       "      <th>1</th>\n",
       "      <td>merced</td>\n",
       "      <td>9655</td>\n",
       "      <td>59,243915069912</td>\n",
       "      <td>56,9963749352667</td>\n",
       "      <td>3,79370629370629</td>\n",
       "      <td>40,756084930088</td>\n",
       "      <td>1,14283216783217</td>\n",
       "      <td>0,835907686716337</td>\n",
       "      <td>18,2627657641287</td>\n",
       "      <td>80,901326549155</td>\n",
       "    </tr>\n",
       "    <tr>\n",
       "      <th>2</th>\n",
       "      <td>hospital</td>\n",
       "      <td>15096</td>\n",
       "      <td>56,4255431902491</td>\n",
       "      <td>53,9281928987811</td>\n",
       "      <td>4,42592157783517</td>\n",
       "      <td>43,5744568097509</td>\n",
       "      <td>1,26226813806058</td>\n",
       "      <td>0,466773123694878</td>\n",
       "      <td>18,6217909347746</td>\n",
       "      <td>80,9114359415305</td>\n",
       "    </tr>\n",
       "    <tr>\n",
       "      <th>3</th>\n",
       "      <td>catedral</td>\n",
       "      <td>10742</td>\n",
       "      <td>59,0113572891454</td>\n",
       "      <td>57,0284863153975</td>\n",
       "      <td>3,36015144344534</td>\n",
       "      <td>40,9886427108546</td>\n",
       "      <td>1,04070042593469</td>\n",
       "      <td>0,457068233757754</td>\n",
       "      <td>14,5935357492654</td>\n",
       "      <td>84,9493960169768</td>\n",
       "    </tr>\n",
       "    <tr>\n",
       "      <th>4</th>\n",
       "      <td>zapote</td>\n",
       "      <td>15545</td>\n",
       "      <td>55,6770665808942</td>\n",
       "      <td>54,0495336120939</td>\n",
       "      <td>2,92316580011554</td>\n",
       "      <td>44,3229334191058</td>\n",
       "      <td>1,15817446562681</td>\n",
       "      <td>0,606998333730064</td>\n",
       "      <td>13,7467269697691</td>\n",
       "      <td>85,6462746965008</td>\n",
       "    </tr>\n",
       "  </tbody>\n",
       "</table>\n",
       "</div>"
      ],
      "text/plain": [
       "             Distrito  Poblacion_15_anos_o_mas Tasa_neta_participacion  \\\n",
       "0   carmen                                2431        56,3142739613328   \n",
       "1     merced                              9655         59,243915069912   \n",
       "2  hospital                              15096        56,4255431902491   \n",
       "3  catedral                              10742        59,0113572891454   \n",
       "4    zapote                              15545        55,6770665808942   \n",
       "\n",
       "     Tasa_ocupacion Tasa_desempleo_abierto Porcentaje_economicamente_inactiva  \\\n",
       "0  54,7922665569724        2,7027027027027                   43,6857260386672   \n",
       "1  56,9963749352667       3,79370629370629                    40,756084930088   \n",
       "2  53,9281928987811       4,42592157783517                   43,5744568097509   \n",
       "3  57,0284863153975       3,36015144344534                   40,9886427108546   \n",
       "4  54,0495336120939       2,92316580011554                   44,3229334191058   \n",
       "\n",
       "  Relacion_dependencia_economica Porcentaje_ocupado_sector_primario  \\\n",
       "0              0,973703433162893                   1,57657657657658   \n",
       "1               1,14283216783217                  0,835907686716337   \n",
       "2               1,26226813806058                  0,466773123694878   \n",
       "3               1,04070042593469                  0,457068233757754   \n",
       "4               1,15817446562681                  0,606998333730064   \n",
       "\n",
       "  Porcentaje_ocupado_sector_secundario Porcentaje_ocupado_sector_terciario  \n",
       "0                     8,70870870870871                    89,7147147147147  \n",
       "1                     18,2627657641287                     80,901326549155  \n",
       "2                     18,6217909347746                    80,9114359415305  \n",
       "3                     14,5935357492654                    84,9493960169768  \n",
       "4                     13,7467269697691                    85,6462746965008  "
      ]
     },
     "execution_count": 245,
     "metadata": {},
     "output_type": "execute_result"
    }
   ],
   "source": [
    "empleo_dataset = pd.read_csv('./data/reempleocenso2011-22.csv', delimiter=',')\n",
    "empleo_dataset = empleo_dataset[empleo_dataset[\"Distrito\"].notnull()]\n",
    "empleo_dataset[\"Distrito\"] = empleo_dataset[\"Distrito\"].apply(lambda x: x.lower())\n",
    "empleo_dataset.head()"
   ]
  },
  {
   "cell_type": "markdown",
   "id": "computational-links",
   "metadata": {},
   "source": [
    "2. (5 puntos) Seleccione las variables distrito, cantidad de delitos por distrito y tasa de\n",
    "desempleo abierto por distrito. Debe realizar un conteo de los delitos por distrito. "
   ]
  },
  {
   "cell_type": "code",
   "execution_count": 263,
   "id": "6c8e539a",
   "metadata": {},
   "outputs": [
    {
     "data": {
      "text/plain": [
       "Index(['hospital', 'merced', 'liberia', 'san rafael', 'alajuela', 'catedral',\n",
       "       'pavas', 'san francisco', 'limon', 'san pedro',\n",
       "       ...\n",
       "       'la legua', 'porozal', 'san carlos', 'chira', 'cabeceras', 'desmonte',\n",
       "       'monterry', 'monte romo', 'san andres', 'zapotal'],\n",
       "      dtype='object', length=388)"
      ]
     },
     "execution_count": 263,
     "metadata": {},
     "output_type": "execute_result"
    }
   ],
   "source": [
    "distrito = criminalidad_dataset[\"Distrito\"]\n",
    "cantidad_delitos = criminalidad_dataset[\"Distrito\"].value_counts()\n",
    "cantidad_delitos.keys()"
   ]
  },
  {
   "cell_type": "code",
   "execution_count": 262,
   "id": "1c6033a3",
   "metadata": {},
   "outputs": [
    {
     "data": {
      "text/plain": [
       "hospital      1363\n",
       "merced         952\n",
       "liberia        867\n",
       "san rafael     845\n",
       "alajuela       794\n",
       "              ... \n",
       "desmonte         1\n",
       "monterry         1\n",
       "monte romo       1\n",
       "san andres       1\n",
       "zapotal          1\n",
       "Name: Distrito, Length: 388, dtype: int64"
      ]
     },
     "execution_count": 262,
     "metadata": {},
     "output_type": "execute_result"
    }
   ],
   "source": [
    "cantidad_delitos"
   ]
  },
  {
   "cell_type": "markdown",
   "id": "cosmetic-glossary",
   "metadata": {},
   "source": [
    "3. (5 puntos) Utilice el algoritmo K-Means implementado en el ejercicio 1 para\n",
    "caracterizar los datos usando las variables cantidad de delitos por distrito y tasa de\n",
    "desempleo abierto por distrito."
   ]
  },
  {
   "cell_type": "code",
   "execution_count": null,
   "id": "02b1ec5e",
   "metadata": {},
   "outputs": [],
   "source": []
  },
  {
   "cell_type": "markdown",
   "id": "considered-fleece",
   "metadata": {},
   "source": [
    "4. (2 puntos) Utilice el método del codo para seleccionar el mejor K y vuelva a\n",
    "ejecutar el algoritmo usando el K recomendado."
   ]
  },
  {
   "cell_type": "code",
   "execution_count": null,
   "id": "bf39d1db",
   "metadata": {},
   "outputs": [],
   "source": []
  },
  {
   "cell_type": "markdown",
   "id": "patient-adapter",
   "metadata": {},
   "source": [
    "5. (2 puntos) Investigue sobre la mejor forma de evaluar el algoritmo K-Means y\n",
    "documente su investigación (e incluya en el cuaderno de Jupyter a presentar al\n",
    "menos dos de los métodos de evaluación encontrados). (2 puntos) Aplique uno de\n",
    "los métodos a la evaluación de los clusteres resultantes del ejercicio anterior"
   ]
  },
  {
   "cell_type": "code",
   "execution_count": null,
   "id": "ac8edacb",
   "metadata": {},
   "outputs": [],
   "source": []
  },
  {
   "cell_type": "markdown",
   "id": "electoral-plaza",
   "metadata": {},
   "source": [
    "6. (5 puntos) Utilice el algoritmo DBSCAN implementado en el ejercicio 1 para\n",
    "caracterizar los datos usando las variables cantidad de delitos por distrito y tasa de\n",
    "desempleo abierto por distrito."
   ]
  },
  {
   "cell_type": "code",
   "execution_count": null,
   "id": "4cc4e512",
   "metadata": {},
   "outputs": [],
   "source": []
  },
  {
   "cell_type": "markdown",
   "id": "scientific-newton",
   "metadata": {},
   "source": [
    "7. (5 puntos) Grafique los resultados de K-Means y DBSCAN."
   ]
  },
  {
   "cell_type": "code",
   "execution_count": null,
   "id": "890a84a0",
   "metadata": {},
   "outputs": [],
   "source": []
  },
  {
   "cell_type": "markdown",
   "id": "lined-devices",
   "metadata": {},
   "source": [
    "8. (2 puntos) Genere y documente sus conclusiones (incluya al menos cuatro\n",
    "conclusiones importantes)."
   ]
  },
  {
   "cell_type": "code",
   "execution_count": null,
   "id": "dcb482d0",
   "metadata": {},
   "outputs": [],
   "source": []
  }
 ],
 "metadata": {
  "kernelspec": {
   "display_name": "Python 3",
   "language": "python",
   "name": "python3"
  },
  "language_info": {
   "codemirror_mode": {
    "name": "ipython",
    "version": 3
   },
   "file_extension": ".py",
   "mimetype": "text/x-python",
   "name": "python",
   "nbconvert_exporter": "python",
   "pygments_lexer": "ipython3",
   "version": "3.8.5"
  }
 },
 "nbformat": 4,
 "nbformat_minor": 5
}
