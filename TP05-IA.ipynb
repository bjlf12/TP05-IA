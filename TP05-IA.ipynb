{
 "cells": [
  {
   "cell_type": "markdown",
   "id": "ignored-habitat",
   "metadata": {},
   "source": [
    "### Instituto Tecnologico de Costa Rica (ITCR)\n",
    "### Sede Interuniversitaria de Alajuela\n",
    "### Escuela de Computacion\n",
    "### Curso: Inteligencia Artificial\n",
    "### Estudiantes: \n",
    "\n",
    " - Brandon Ledezma Fernández - 2018185574\n",
    " - Walter Morales Vásquez - 2018212846\n",
    "\n",
    "### Profesora:\n",
    " \n",
    " - Maria Auxiliadora Mora"
   ]
  },
  {
   "cell_type": "markdown",
   "id": "welsh-render",
   "metadata": {},
   "source": [
    "# Tarea Programada Número 5\n",
    "---\n",
    "#### Introducción:\n",
    "<div style='text-align: justify;'> \n",
    "En este trabajo práctico se aplicarán conceptos básicos de aprendizaje automático\n",
    "utilizando algoritmos no supervisados.\n",
    "</div>\n",
    "<div style='text-align: justify;'>\n",
    "Los estudiantes deberán realizar dos ejercicios. El primero consiste en implementar de cero los algoritmos de K-Means y DBSCAN. El segundo ejercicio consiste en aplicar los algoritmos de clustering a datos del Organismo de Investigación Judicial (OIJ) integrados con indicadores socio-económicos generados por el Instituto Nacional de Estadística y Censos de Costa Rica (INEC) para hacer un estudio muy simplificado sobre la criminalidad en el país.\n",
    "</div>\n",
    "<div style='text-align: justify;'>\n",
    "El objetivo del trabajo es poner en práctica el conocimiento adquirido durante el\n",
    "curso sobre clustering por medio de ejercicios prácticos que permitan al estudiante\n",
    "experimentar con un ejemplo de uso.\n",
    "</div>"
   ]
  },
  {
   "cell_type": "markdown",
   "id": "changed-bermuda",
   "metadata": {},
   "source": [
    "## Ejercicio 1. Implemente de cero los algoritmos K-Means y DBSCAN. "
   ]
  },
  {
   "cell_type": "markdown",
   "id": "danish-slovakia",
   "metadata": {},
   "source": [
    "1. (10 puntos) Implemente de cero el algoritmo de K-Means para vectores de atributos\n",
    "de cualquier dimensión sin utilizar ninguna implementación de biblioteca. "
   ]
  },
  {
   "cell_type": "markdown",
   "id": "obvious-madonna",
   "metadata": {},
   "source": [
    "2. (15 puntos) Implemente de cero el algoritmo DBSCAN."
   ]
  },
  {
   "cell_type": "markdown",
   "id": "norman-hobby",
   "metadata": {},
   "source": [
    "3. (2 puntos) Pruebe ambos algoritmos con datos generados artificialmente."
   ]
  },
  {
   "cell_type": "markdown",
   "id": "external-perry",
   "metadata": {},
   "source": [
    "4. (3 puntos) Visualice ambos resultados. "
   ]
  },
  {
   "cell_type": "markdown",
   "id": "fatal-philadelphia",
   "metadata": {},
   "source": [
    "## Ejercicio 2. Aplicación de los algoritmos de clustering implementados para caracterizar la criminalidad en Costa Rica a partir de datos del OIJ y el INEC.\n",
    "---\n",
    "<div style='text-align: justify;'>\n",
    "Objetivo: El objetivo del presente ejercicio es utilizar datos de criminalidad en Costa Rica\n",
    "combinados con datos socio-económicos asociados a distritos para demostrar cuán\n",
    "efectivos y precisos pueden ser los algoritmos de clustering en la definición de perfiles de\n",
    "criminalidad por distrito a nivel nacional. El presente ejercicio utilizará datos numéricos\n",
    "únicamente para tipificar de forma muy simplificada (utilizando dos características) los\n",
    "distritos por cantidad de delitos y tasa de desempleo abierto.\n",
    "</div>"
   ]
  },
  {
   "cell_type": "markdown",
   "id": "alive-advance",
   "metadata": {},
   "source": [
    "1. (4 puntos) Baje los siguientes conjuntos de datos, publicados por las siguientes\n",
    "instituciones nacionales, intégrelos por medio del nombre del distrito y\n",
    "preprocéselos para el ejercicio (documente muy bien todo el proceso).\n",
    "Para ambos conjuntos de datos baje los datos para todas las provincias, cantones\n",
    "y distritos y asegúrese que los datos están limpios antes de hacer el join por distrito\n",
    "para asegurarse que la mínima cantidad de datos no es tomada en cuenta. Es\n",
    "decir deben verificar que en ambos conjuntos de datos los distritos estén\n",
    "escritos de la misma forma.\n",
    "\n",
    "Los conjuntos de datos:"
   ]
  },
  {
   "cell_type": "markdown",
   "id": "critical-victim",
   "metadata": {},
   "source": [
    " a) El OIJ publica datos sobre criminalidad en Costa Rica que tienen como\n",
    "fuente las denuncias interpuestas directamente ante esta entidad nacional.\n",
    "Los datos recopilados por el OIJ están disponibles por provincia, cantón o\n",
    "distrito (deben ser bajados como hoja electrónica para contar con el dato de\n",
    "distrito porque en otros formatos tienen errores). Los datos están disponibles\n",
    "en [Organismo de Investigación Judicial (2018). Estadísticas poiciales. Recuperado de\n",
    "https://sitiooij.poder-judicial.go.cr/index.php/apertura/transparencia/estadisticas-policiales ]. \n",
    "\n",
    "El conjunto de datos de criminalidad del OIJ posee las siguientes columnas:\n",
    "\n",
    "* Delito:Tipo de Delito\n",
    "* SubDelito: Tipo de SubDelito\n",
    "* Fecha: Fecha del Hecho\n",
    "* Hora: Rango de 3 horas del Hecho\n",
    "* Victima: Descripción de la Víctima\n",
    "* SubVictima: Descripción de la SubVíctima\n",
    "* Edad: Grupo de Edad que pertenece la Víctima\n",
    "* Genero: Género de la Víctima\n",
    "* Nacionalidad: Nacionalidad de la Víctima\n",
    "* Provincia: Provincia del Lugar del Hecho\n",
    "* Canton: Cantón del Lugar del Hecho\n",
    "* Distrito: Distrito del Lugar del Hecho"
   ]
  },
  {
   "cell_type": "markdown",
   "id": "rough-mounting",
   "metadata": {},
   "source": [
    " b) El INEC es la institución encargada a nivel nacional de la generación y\n",
    "divulgación de datos estadísticos obtenidos por medio de censos, encuestas\n",
    "y otros estudios sobre demografía, economía y otros. Al igual que en el OIJ\n",
    "los datos están disponibles por distrito. Los datos a utilizar, fueron\n",
    "generados por el INEC como resultado del censo realizado en el país en el\n",
    "año 2011. Los datos están disponibles en [ Instituto Nacional de Estadísticas y Censos (2011). Censo 2011: Indicadores\n",
    "económicos, según provincia, cantón y distrito. Recuperado de\n",
    "http://inec.cr/documento/censo-2011-indicadores-economicos-segun-provincia-canton-ydistrito ]. \n",
    "\n",
    "El conjunto de datos posee las siguientes columnas:\n",
    "* Provincia, Cantón y Distrito\n",
    "* Población de 15 años y más\n",
    "* Tasa neta de participación\n",
    "* Tasa de ocupación\n",
    "* Tasa de desempleo abierto\n",
    "* Porcentaje de poblacion economicamente inactiva\n",
    "* Relación de depedencia económica"
   ]
  },
  {
   "cell_type": "markdown",
   "id": "computational-links",
   "metadata": {},
   "source": [
    "2. (5 puntos) Seleccione las variables distrito, cantidad de delitos por distrito y tasa de\n",
    "desempleo abierto por distrito. Debe realizar un conteo de los delitos por distrito. "
   ]
  },
  {
   "cell_type": "markdown",
   "id": "cosmetic-glossary",
   "metadata": {},
   "source": [
    "3. (5 puntos) Utilice el algoritmo K-Means implementado en el ejercicio 1 para\n",
    "caracterizar los datos usando las variables cantidad de delitos por distrito y tasa de\n",
    "desempleo abierto por distrito."
   ]
  },
  {
   "cell_type": "markdown",
   "id": "considered-fleece",
   "metadata": {},
   "source": [
    "4. (2 puntos) Utilice el método del codo para seleccionar el mejor K y vuelva a\n",
    "ejecutar el algoritmo usando el K recomendado."
   ]
  },
  {
   "cell_type": "markdown",
   "id": "patient-adapter",
   "metadata": {},
   "source": [
    "5. (2 puntos) Investigue sobre la mejor forma de evaluar el algoritmo K-Means y\n",
    "documente su investigación (e incluya en el cuaderno de Jupyter a presentar al\n",
    "menos dos de los métodos de evaluación encontrados). (2 puntos) Aplique uno de\n",
    "los métodos a la evaluación de los clusteres resultantes del ejercicio anterior"
   ]
  },
  {
   "cell_type": "markdown",
   "id": "electoral-plaza",
   "metadata": {},
   "source": [
    "6. (5 puntos) Utilice el algoritmo DBSCAN implementado en el ejercicio 1 para\n",
    "caracterizar los datos usando las variables cantidad de delitos por distrito y tasa de\n",
    "desempleo abierto por distrito."
   ]
  },
  {
   "cell_type": "markdown",
   "id": "scientific-newton",
   "metadata": {},
   "source": [
    "7. (5 puntos) Grafique los resultados de K-Means y DBSCAN."
   ]
  },
  {
   "cell_type": "markdown",
   "id": "lined-devices",
   "metadata": {},
   "source": [
    "8. (2 puntos) Genere y documente sus conclusiones (incluya al menos cuatro\n",
    "conclusiones importantes)."
   ]
  }
 ],
 "metadata": {
  "kernelspec": {
   "display_name": "Python 3",
   "language": "python",
   "name": "python3"
  },
  "language_info": {
   "codemirror_mode": {
    "name": "ipython",
    "version": 3
   },
   "file_extension": ".py",
   "mimetype": "text/x-python",
   "name": "python",
   "nbconvert_exporter": "python",
   "pygments_lexer": "ipython3",
   "version": "3.8.5"
  }
 },
 "nbformat": 4,
 "nbformat_minor": 5
}
