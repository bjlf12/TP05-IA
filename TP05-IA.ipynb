{
 "cells": [
  {
   "cell_type": "markdown",
   "id": "ignored-habitat",
   "metadata": {},
   "source": [
    "### Instituto Tecnologico de Costa Rica (ITCR)\n",
    "### Sede Interuniversitaria de Alajuela\n",
    "### Escuela de Computacion\n",
    "### Curso: Inteligencia Artificial\n",
    "### Estudiantes: \n",
    "\n",
    " - Brandon Ledezma Fernández - 2018185574\n",
    " - Walter Morales Vásquez - 2018212846\n",
    "\n",
    "### Profesora:\n",
    " \n",
    " - Maria Auxiliadora Mora"
   ]
  },
  {
   "cell_type": "markdown",
   "id": "welsh-render",
   "metadata": {},
   "source": [
    "# Tarea Programada Número 5\n",
    "---\n",
    "#### Introducción:\n",
    "<div style='text-align: justify;'> \n",
    "En este trabajo práctico se aplicarán conceptos básicos de aprendizaje automático\n",
    "utilizando algoritmos no supervisados.\n",
    "</div>\n",
    "<div style='text-align: justify;'>\n",
    "Los estudiantes deberán realizar dos ejercicios. El primero consiste en implementar de cero los algoritmos de K-Means y DBSCAN. El segundo ejercicio consiste en aplicar los algoritmos de clustering a datos del Organismo de Investigación Judicial (OIJ) integrados con indicadores socio-económicos generados por el Instituto Nacional de Estadística y Censos de Costa Rica (INEC) para hacer un estudio muy simplificado sobre la criminalidad en el país.\n",
    "</div>\n",
    "<div style='text-align: justify;'>\n",
    "El objetivo del trabajo es poner en práctica el conocimiento adquirido durante el\n",
    "curso sobre clustering por medio de ejercicios prácticos que permitan al estudiante\n",
    "experimentar con un ejemplo de uso.\n",
    "</div>"
   ]
  },
  {
   "cell_type": "code",
   "execution_count": 26,
   "id": "b302ed97",
   "metadata": {},
   "outputs": [],
   "source": [
    "import math\n",
    "import random\n",
    "import matplotlib.pyplot as plt"
   ]
  },
  {
   "cell_type": "markdown",
   "id": "changed-bermuda",
   "metadata": {},
   "source": [
    "## Ejercicio 1. Implemente de cero los algoritmos K-Means y DBSCAN. "
   ]
  },
  {
   "cell_type": "markdown",
   "id": "danish-slovakia",
   "metadata": {},
   "source": [
    "1. (10 puntos) Implemente de cero el algoritmo de K-Means para vectores de atributos\n",
    "de cualquier dimensión sin utilizar ninguna implementación de biblioteca. "
   ]
  },
  {
   "cell_type": "code",
   "execution_count": 61,
   "id": "f56252e1",
   "metadata": {},
   "outputs": [],
   "source": [
    "def encontrar_min_max(elementos):\n",
    "    \n",
    "    elem_min = [math.inf for i in range(len(elementos))]\n",
    "    elem_max = [-math.inf for i in range(len(elementos))]\n",
    "    \n",
    "    for elem in elementos:\n",
    "        for cols in range(len(elem)):\n",
    "            if elem[cols] > elem_max[cols]:\n",
    "                elem_max[cols] = elem[cols]\n",
    "                \n",
    "            if elem[cols] < elem_min[cols]:\n",
    "                elem_min[cols] = elem[cols]\n",
    "            \n",
    "    return (elem_min, elem_max)\n",
    "\n",
    "def inicializar_medias(elementos, k, elem_min, elem_max):\n",
    "    \n",
    "    # Initialize means to random numbers between\n",
    "    # the min and max of each column/feature \n",
    "    cols = len(elementos[0]) # number of features\n",
    "    medias = [[0 for j in range(cols)] for i in range(k)]\n",
    "    \n",
    "    for media in medias:\n",
    "        for i in range(len(media)):\n",
    "            \n",
    "            # Set value to a random float\n",
    "            # (adding +-1 to avoid a wide placement of a mean)\n",
    "            media[i] = random.uniform(elem_min[i]+1, elem_max[i]-1);\n",
    "    \n",
    "    return medias\n",
    "    \n",
    "def distancia_euclidiana(x, y):\n",
    "    \n",
    "    resultado = 0 # The sum of the squared differences of the elements\n",
    "    \n",
    "    for i in range(len(x)):\n",
    "        resultado += (x[i]-y[i])**2\n",
    "        \n",
    "    # The square root of the sum\n",
    "    return resultado\n",
    "\n",
    "def clasificar(medias, elem):\n",
    "    \n",
    "    # Classify item to the mean with minimum distance\n",
    "    minimo = math.inf\n",
    "    index = -1\n",
    "\n",
    "    for i in range(len(medias)):\n",
    "        \n",
    "        # Find distance from item to mean\n",
    "        dis = distancia_euclidiana(elem, medias[i])\n",
    "        \n",
    "        if minimo > dis:\n",
    "            minimo = dis\n",
    "            index = i\n",
    "            \n",
    "    return index\n",
    "    \n",
    "def actualizar_media(cantidad, medias, elem):\n",
    "    \n",
    "    for i in range(len(medias)):\n",
    "        m = medias[i]\n",
    "        m = (m*(cantidad-1)+elem[i])/float(cantidad)\n",
    "        medias[i] = round(m, 4)\n",
    "      \n",
    "    return medias\n",
    "\n",
    "def k_medias(k, elementos, epocas=100000):\n",
    "    \n",
    "    # Find the minima and maxima for columns\n",
    "    elem_min, elem_max = encontrar_min_max(elementos)\n",
    "    \n",
    "    # Initialize means at random points\n",
    "    medias = inicializar_medias(elementos, k, elem_min, elem_max)\n",
    "    \n",
    "    # Initialize clusters, the array to hold\n",
    "    # the number of items in a class\n",
    "    cantidad_en_clusters= [0 for i in range(len(medias))]\n",
    "    \n",
    "    # An array to hold the cluster an item is in\n",
    "    pertenece = [0 for i in range(len(elementos))]\n",
    "    \n",
    "    # Calculate means\n",
    "    for e in range(epocas):\n",
    "        # If no change of cluster occurs, halt\n",
    "        sin_cambio = True;\n",
    "        for i in range(len(elementos)):\n",
    "            \n",
    "            elem = elementos[i]\n",
    "            \n",
    "            # Classify item into a cluster and update the\n",
    "            # corresponding means.        \n",
    "            index = clasificar(medias, elem)\n",
    "#             print(index)\n",
    "            \n",
    "            cantidad_en_clusters[index] += 1\n",
    "            cantidad = cantidad_en_clusters[index]\n",
    "            medias[index] = actualizar_media(cantidad, medias[index], elem)\n",
    "            \n",
    "            # Item changed cluster\n",
    "            if(elem != pertenece[i]):\n",
    "                noChange = False\n",
    "  \n",
    "            pertenece[i] = index\n",
    "    \n",
    "#         print(e, pertenece)\n",
    "        # Nothing changed, return\n",
    "        if (noChange):\n",
    "            break\n",
    "    \n",
    "    return medias, pertenece"
   ]
  },
  {
   "cell_type": "markdown",
   "id": "obvious-madonna",
   "metadata": {},
   "source": [
    "2. (15 puntos) Implemente de cero el algoritmo DBSCAN."
   ]
  },
  {
   "cell_type": "code",
   "execution_count": 46,
   "id": "e5efab78",
   "metadata": {},
   "outputs": [],
   "source": [
    "# def k_medias(m, r, elementos, epocas=100000):\n",
    "    \n",
    "    "
   ]
  },
  {
   "cell_type": "markdown",
   "id": "norman-hobby",
   "metadata": {},
   "source": [
    "3. (2 puntos) Pruebe ambos algoritmos con datos generados artificialmente."
   ]
  },
  {
   "cell_type": "code",
   "execution_count": 47,
   "id": "b57fe2cd",
   "metadata": {},
   "outputs": [
    {
     "name": "stdout",
     "output_type": "stream",
     "text": [
      "[[16.659597468154622, 10.324843325239685], [8.980112623662768, 17.100727868450672], [2.0729739504608458, 3.07078932258231], [19.341126301138466, 1.5470517857792387], [17.6960894416388, 19.691376566010472], [15.3025525854458, 5.2552305907845165], [13.812089073252201, 19.142284190008642], [19.373111415827815, 9.340465700307266], [2.6298545610718738, 6.647931310205828], [0.6751542920073406, 17.62147140803261], [7.5147607383419786, 19.998006793971886], [8.966770914322126, 16.36842425901883], [14.398947407678316, 18.138317936910617], [19.35642061532945, 17.691816938646753], [7.012924977186921, 18.818476676335408], [18.60999852481474, 16.295134820414386], [13.234046712265377, 11.46776638924229], [1.8711509144832705, 4.706928858734216], [6.5458009716608405, 10.098152044986161], [12.093570561993964, 12.542087663096751], [13.463765119304721, 1.99484177405157], [6.423404360759619, 1.8452855294444515], [17.44881936478666, 18.770362902157487], [18.92245354136408, 11.2198711945545], [6.337810277931435, 13.564945858864998], [18.937688776073347, 11.66936069442708], [1.6511987784388071, 2.364385813629717], [13.006041106851153, 11.401608540200643], [5.700557944864149, 13.913238503021885], [13.726163534814441, 14.206815382547212], [8.851531302048745, 14.321829887029649], [3.4023851449360576, 18.600049901926162], [3.753647121000099, 11.329575171854804], [2.519656429448238, 13.859576470750097], [6.354932468093033, 5.090456557645442], [6.421861698440212, 1.1684731737588994], [0.13147679949020885, 10.183621117575996], [19.704879184373006, 8.152834062608175], [3.2268043837930893, 18.16769419852085], [8.280375309179473, 5.63149004349254], [3.9018253517665236, 3.2560145872625745], [2.295897762627115, 19.037150305677592], [7.203224824310537, 18.612505716232373], [9.462128992851664, 2.2863107733033528], [5.113131499883082, 8.180996456837509], [6.443700167609084, 11.884601639100001], [3.412701078698166, 3.9517196090299844], [7.009961791384482, 3.1722261984889233], [8.609898662329885, 18.01414394380226], [4.671571125792489, 11.266557936384915], [5.7153645590288065, 14.481281573201898], [3.779140234032794, 5.377800580834508], [3.2785796658289934, 0.5192743036751191], [0.5755197072023055, 0.5801630868495744], [13.625193534276471, 14.253522626225541], [9.673561363463342, 10.379052788949295], [3.486418812359804, 16.046547231302796], [5.94538452499124, 12.63155926235569], [6.0274952554428936, 15.477281042194457], [4.156005085485384, 16.48542595263837], [17.753888534659797, 17.78299540520147], [16.024258840033752, 19.724537112595208], [9.897157234631361, 17.71808074140621], [5.82922076912528, 11.08383751056678], [11.375709010618355, 7.20638839926046], [11.436735943110266, 4.702690709969137], [19.978820495382283, 3.0891687128361234], [2.6502795702674775, 19.864766754871702], [0.37106029986550215, 14.267380166959086], [18.15803385472552, 11.514403216263165], [18.47351794254732, 0.27821229441362894], [7.090768268659337, 9.53244754316769], [4.649384970157257, 6.036475355461124], [2.832322498686959, 19.9132228735347], [18.493193790820722, 11.23587883805087], [5.45841740584202, 13.398412771760865], [18.69584096602666, 18.530252928938648], [12.4918970379682, 6.877322716359062], [1.4874472901624003, 17.43911933354963], [17.09763514907119, 11.935354094150084], [18.142074751738807, 5.913573848744617], [2.975623012125459, 15.247807165713443], [11.70729231210437, 8.829631827644924], [19.077183165984806, 9.954687986146018], [9.697235003583412, 2.3696627454021635], [10.238114288170781, 11.510206079698964], [17.71769939268069, 4.2804497852600925], [0.8801207303577141, 8.898336886835096], [11.266883579114547, 11.313604730071788], [1.2006958212924235, 5.022920226989466], [15.861606031771585, 19.51342685650422], [3.418486898974278, 9.069578421818845], [17.341877437698333, 17.831775593168437], [15.649989705886142, 8.525296116257259], [14.880059929050656, 13.922894310484102], [2.4466305649133857, 5.04036026840486], [18.384818638441114, 19.647463759133068], [12.740571869129994, 14.67475989018867], [15.393599820668067, 3.4559122397446185], [18.84774974867482, 15.9894285560127]]\n"
     ]
    }
   ],
   "source": [
    "def generar_datos(cant_datos, cant_cols, maximo, minimo):\n",
    "    \n",
    "    resultado = [[random.uniform(minimo, maximo) for j in range(cant_cols)] for i in range(cant_datos)]\n",
    "    \n",
    "    return resultado\n",
    "\n",
    "cant_datos = 100\n",
    "cant_cols = 2\n",
    "maximo = 20\n",
    "minimo = 0\n",
    "\n",
    "datos = generar_datos(cant_datos, cant_cols, maximo, minimo)\n",
    "\n",
    "print(datos)"
   ]
  },
  {
   "cell_type": "code",
   "execution_count": 62,
   "id": "13b440b3",
   "metadata": {},
   "outputs": [
    {
     "name": "stdout",
     "output_type": "stream",
     "text": [
      "[[8.729, 16.3446], [4.3978, 5.6842], [16.6202, 8.8219]]\n"
     ]
    }
   ],
   "source": [
    "k = 3\n",
    "epocas = 1000\n",
    "\n",
    "medias, pertenece = k_medias(k, datos, epocas)\n",
    "\n",
    "print(medias)"
   ]
  },
  {
   "cell_type": "markdown",
   "id": "external-perry",
   "metadata": {},
   "source": [
    "4. (3 puntos) Visualice ambos resultados. "
   ]
  },
  {
   "cell_type": "code",
   "execution_count": 64,
   "id": "61a3f2e5",
   "metadata": {},
   "outputs": [
    {
     "name": "stdout",
     "output_type": "stream",
     "text": [
      "[2, 0, 1, 2, 0, 2, 0, 2, 1, 0, 0, 0, 0, 2, 0, 2, 2, 1, 1, 0, 2, 1, 0, 2, 0, 2, 1, 2, 0, 0, 0, 0, 1, 0, 1, 1, 1, 2, 0, 1, 1, 0, 0, 1, 1, 0, 1, 1, 0, 1, 0, 1, 1, 1, 0, 0, 0, 0, 0, 0, 2, 0, 0, 1, 2, 2, 2, 0, 0, 2, 2, 1, 1, 0, 2, 0, 2, 2, 0, 2, 2, 0, 2, 2, 1, 0, 2, 1, 0, 1, 0, 1, 0, 2, 2, 1, 0, 0, 2, 2]\n"
     ]
    },
    {
     "data": {
      "image/png": "[encoded data removed]",
      "text/plain": [
       "<Figure size 432x288 with 1 Axes>"
      ]
     },
     "metadata": {
      "needs_background": "light"
     },
     "output_type": "display_data"
    }
   ],
   "source": [
    "x = [elem[0] for elem in datos]\n",
    "y = [elem[1] for elem in datos]\n",
    "\n",
    "x_means = [elem[0] for elem in medias]\n",
    "y_means = [elem[1] for elem in medias]\n",
    "\n",
    "print(pertenece)\n",
    "\n",
    "# Se grafican las clases junto con la línea que los divide.\n",
    "plt.figure()\n",
    "plt.title('')\n",
    "plt.scatter(x, y, marker=\"o\", c=pertenece)\n",
    "plt.scatter(x_means, y_means, marker=\"X\", c=\"red\")\n",
    "#plt.plot(SamplesAll.numpy(), Y.numpy(), \"r-\")\n",
    "plt.show()"
   ]
  },
  {
   "cell_type": "markdown",
   "id": "fatal-philadelphia",
   "metadata": {},
   "source": [
    "## Ejercicio 2. Aplicación de los algoritmos de clustering implementados para caracterizar la criminalidad en Costa Rica a partir de datos del OIJ y el INEC.\n",
    "---\n",
    "<div style='text-align: justify;'>\n",
    "Objetivo: El objetivo del presente ejercicio es utilizar datos de criminalidad en Costa Rica\n",
    "combinados con datos socio-económicos asociados a distritos para demostrar cuán\n",
    "efectivos y precisos pueden ser los algoritmos de clustering en la definición de perfiles de\n",
    "criminalidad por distrito a nivel nacional. El presente ejercicio utilizará datos numéricos\n",
    "únicamente para tipificar de forma muy simplificada (utilizando dos características) los\n",
    "distritos por cantidad de delitos y tasa de desempleo abierto.\n",
    "</div>"
   ]
  },
  {
   "cell_type": "markdown",
   "id": "alive-advance",
   "metadata": {},
   "source": [
    "1. (4 puntos) Baje los siguientes conjuntos de datos, publicados por las siguientes\n",
    "instituciones nacionales, intégrelos por medio del nombre del distrito y\n",
    "preprocéselos para el ejercicio (documente muy bien todo el proceso).\n",
    "Para ambos conjuntos de datos baje los datos para todas las provincias, cantones\n",
    "y distritos y asegúrese que los datos están limpios antes de hacer el join por distrito\n",
    "para asegurarse que la mínima cantidad de datos no es tomada en cuenta. Es\n",
    "decir deben verificar que en ambos conjuntos de datos los distritos estén\n",
    "escritos de la misma forma.\n",
    "\n",
    "Los conjuntos de datos:"
   ]
  },
  {
   "cell_type": "markdown",
   "id": "critical-victim",
   "metadata": {},
   "source": [
    " a) El OIJ publica datos sobre criminalidad en Costa Rica que tienen como\n",
    "fuente las denuncias interpuestas directamente ante esta entidad nacional.\n",
    "Los datos recopilados por el OIJ están disponibles por provincia, cantón o\n",
    "distrito (deben ser bajados como hoja electrónica para contar con el dato de\n",
    "distrito porque en otros formatos tienen errores). Los datos están disponibles\n",
    "en [Organismo de Investigación Judicial (2018). Estadísticas poiciales. Recuperado de\n",
    "https://sitiooij.poder-judicial.go.cr/index.php/apertura/transparencia/estadisticas-policiales ]. \n",
    "\n",
    "El conjunto de datos de criminalidad del OIJ posee las siguientes columnas:\n",
    "\n",
    "* Delito:Tipo de Delito\n",
    "* SubDelito: Tipo de SubDelito\n",
    "* Fecha: Fecha del Hecho\n",
    "* Hora: Rango de 3 horas del Hecho\n",
    "* Victima: Descripción de la Víctima\n",
    "* SubVictima: Descripción de la SubVíctima\n",
    "* Edad: Grupo de Edad que pertenece la Víctima\n",
    "* Genero: Género de la Víctima\n",
    "* Nacionalidad: Nacionalidad de la Víctima\n",
    "* Provincia: Provincia del Lugar del Hecho\n",
    "* Canton: Cantón del Lugar del Hecho\n",
    "* Distrito: Distrito del Lugar del Hecho"
   ]
  },
  {
   "cell_type": "markdown",
   "id": "rough-mounting",
   "metadata": {},
   "source": [
    " b) El INEC es la institución encargada a nivel nacional de la generación y\n",
    "divulgación de datos estadísticos obtenidos por medio de censos, encuestas\n",
    "y otros estudios sobre demografía, economía y otros. Al igual que en el OIJ\n",
    "los datos están disponibles por distrito. Los datos a utilizar, fueron\n",
    "generados por el INEC como resultado del censo realizado en el país en el\n",
    "año 2011. Los datos están disponibles en [ Instituto Nacional de Estadísticas y Censos (2011). Censo 2011: Indicadores\n",
    "económicos, según provincia, cantón y distrito. Recuperado de\n",
    "http://inec.cr/documento/censo-2011-indicadores-economicos-segun-provincia-canton-ydistrito ]. \n",
    "\n",
    "El conjunto de datos posee las siguientes columnas:\n",
    "* Provincia, Cantón y Distrito\n",
    "* Población de 15 años y más\n",
    "* Tasa neta de participación\n",
    "* Tasa de ocupación\n",
    "* Tasa de desempleo abierto\n",
    "* Porcentaje de poblacion economicamente inactiva\n",
    "* Relación de depedencia económica"
   ]
  },
  {
   "cell_type": "markdown",
   "id": "computational-links",
   "metadata": {},
   "source": [
    "2. (5 puntos) Seleccione las variables distrito, cantidad de delitos por distrito y tasa de\n",
    "desempleo abierto por distrito. Debe realizar un conteo de los delitos por distrito. "
   ]
  },
  {
   "cell_type": "markdown",
   "id": "cosmetic-glossary",
   "metadata": {},
   "source": [
    "3. (5 puntos) Utilice el algoritmo K-Means implementado en el ejercicio 1 para\n",
    "caracterizar los datos usando las variables cantidad de delitos por distrito y tasa de\n",
    "desempleo abierto por distrito."
   ]
  },
  {
   "cell_type": "markdown",
   "id": "considered-fleece",
   "metadata": {},
   "source": [
    "4. (2 puntos) Utilice el método del codo para seleccionar el mejor K y vuelva a\n",
    "ejecutar el algoritmo usando el K recomendado."
   ]
  },
  {
   "cell_type": "markdown",
   "id": "patient-adapter",
   "metadata": {},
   "source": [
    "5. (2 puntos) Investigue sobre la mejor forma de evaluar el algoritmo K-Means y\n",
    "documente su investigación (e incluya en el cuaderno de Jupyter a presentar al\n",
    "menos dos de los métodos de evaluación encontrados). (2 puntos) Aplique uno de\n",
    "los métodos a la evaluación de los clusteres resultantes del ejercicio anterior"
   ]
  },
  {
   "cell_type": "markdown",
   "id": "electoral-plaza",
   "metadata": {},
   "source": [
    "6. (5 puntos) Utilice el algoritmo DBSCAN implementado en el ejercicio 1 para\n",
    "caracterizar los datos usando las variables cantidad de delitos por distrito y tasa de\n",
    "desempleo abierto por distrito."
   ]
  },
  {
   "cell_type": "markdown",
   "id": "scientific-newton",
   "metadata": {},
   "source": [
    "7. (5 puntos) Grafique los resultados de K-Means y DBSCAN."
   ]
  },
  {
   "cell_type": "markdown",
   "id": "lined-devices",
   "metadata": {},
   "source": [
    "8. (2 puntos) Genere y documente sus conclusiones (incluya al menos cuatro\n",
    "conclusiones importantes)."
   ]
  }
 ],
 "metadata": {
  "kernelspec": {
   "display_name": "Python 3",
   "language": "python",
   "name": "python3"
  },
  "language_info": {
   "codemirror_mode": {
    "name": "ipython",
    "version": 3
   },
   "file_extension": ".py",
   "mimetype": "text/x-python",
   "name": "python",
   "nbconvert_exporter": "python",
   "pygments_lexer": "ipython3",
   "version": "3.8.5"
  }
 },
 "nbformat": 4,
 "nbformat_minor": 5
}
